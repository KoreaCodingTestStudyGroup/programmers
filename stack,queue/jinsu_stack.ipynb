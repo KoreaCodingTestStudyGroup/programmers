{
 "cells": [
  {
   "cell_type": "code",
   "execution_count": null,
   "id": "4f44ba05",
   "metadata": {},
   "outputs": [],
   "source": [
    "# 프린터\n",
    "\n",
    "from collections import deque\n",
    "\n",
    "\n",
    "def solution(p, l):\n",
    "    D = [[q,w] for q,w in enumerate(p)]\n",
    "    ans = 0\n",
    "    while True:\n",
    "        cur = D.pop(0)\n",
    "        if any(cur[1] < im[1] for im in D):\n",
    "            D.append(cur)\n",
    "        else:\n",
    "            ans += 1\n",
    "            if cur[0]==l:\n",
    "                return ans\n",
    "            else:\n",
    "                continue"
   ]
  },
  {
   "cell_type": "code",
   "execution_count": null,
   "id": "bccd08fa",
   "metadata": {},
   "outputs": [],
   "source": [
    "# 지나가는 다리\n",
    "\n",
    "# b:bridge_length\n",
    "# w: weight\n",
    "# t: truck_weights\n",
    "\n",
    "def solution(b, w, t):\n",
    "    ans = 0\n",
    "    Q = []\n",
    "    while True:\n",
    "        ans +=1\n",
    "        if len(Q) < b:\n",
    "            a = t.pop(0)\n",
    "            Q.append(a)\n",
    "        else:\n",
    "            if len(Q) == 0:\n",
    "                break\n",
    "            else:\n",
    "                Q.pop(0)\n",
    "\n",
    "    return ans"
   ]
  }
 ],
 "metadata": {
  "kernelspec": {
   "display_name": "Python 3 (ipykernel)",
   "language": "python",
   "name": "python3"
  },
  "language_info": {
   "codemirror_mode": {
    "name": "ipython",
    "version": 3
   },
   "file_extension": ".py",
   "mimetype": "text/x-python",
   "name": "python",
   "nbconvert_exporter": "python",
   "pygments_lexer": "ipython3",
   "version": "3.9.10"
  }
 },
 "nbformat": 4,
 "nbformat_minor": 5
}
