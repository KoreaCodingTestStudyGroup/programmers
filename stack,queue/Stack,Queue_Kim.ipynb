{
  "nbformat": 4,
  "nbformat_minor": 0,
  "metadata": {
    "colab": {
      "name": "Stack,Queue.Kim.ipynb",
      "private_outputs": true,
      "provenance": [],
      "collapsed_sections": []
    },
    "kernelspec": {
      "name": "python3",
      "display_name": "Python 3"
    },
    "language_info": {
      "name": "python"
    }
  },
  "cells": [
    {
      "cell_type": "markdown",
      "source": [
        "# 1.기능개발(Level 2)"
      ],
      "metadata": {
        "id": "HbHTvpYcWKuU"
      }
    },
    {
      "cell_type": "code",
      "source": [
        "def solution(progresses, speeds):\n",
        "    answer = []\n",
        "\n",
        "    day = 1\n",
        "    cnt = 0\n",
        "    while progresses:\n",
        "        if progresses[0] + day * speeds[0] >= 100:\n",
        "            progresses.pop(0)\n",
        "            speeds.pop(0)\n",
        "            cnt += 1\n",
        "        else:\n",
        "            if cnt != 0:\n",
        "                answer.append(cnt)\n",
        "                cnt = 0\n",
        "            day += 1\n",
        "    answer.append(cnt)      # 마지막 cnt는 while문이 종료되어 else에서 answer에 append되지 않아 while문 종료후 append\n",
        "    return answer"
      ],
      "metadata": {
        "id": "pIs1bf41Wd1Z"
      },
      "execution_count": null,
      "outputs": []
    },
    {
      "cell_type": "markdown",
      "source": [
        "# 2.프린터(Level 2)"
      ],
      "metadata": {
        "id": "x_s8Q6aHWKpp"
      }
    },
    {
      "cell_type": "code",
      "source": [
        "def solution(p, l):\n",
        "    answer = []\n",
        "    a = []\n",
        "    for i, j in enumerate(p):   # [[인덱스, 숫자]] 형태로 리스트 작성\n",
        "        a.append([i, j])\n",
        "\n",
        "    while a:\n",
        "        pr = a.pop(0)   \n",
        "        if any(pr[1] < i[1] for i in a):    #pr보다 우선순위가 높은 작업이 있다면 다시 대기목록에 추가\n",
        "            a.append(pr)\n",
        "        else:\n",
        "            answer.append(pr)   # 그렇지 않다면 출력\n",
        "\n",
        "    for i in answer:\n",
        "        if i[0] == l:\n",
        "            return answer.index(i) + 1  #i의 인덱스는 0부터 시작이므로 1을 더해서 return"
      ],
      "metadata": {
        "id": "3tQuC3o1WeDN"
      },
      "execution_count": null,
      "outputs": []
    },
    {
      "cell_type": "markdown",
      "source": [
        "# 3.다리를 지나는 트럭(Level 2)"
      ],
      "metadata": {
        "id": "YYxOC-ILWKkj"
      }
    },
    {
      "cell_type": "code",
      "source": [
        "def solution(bridge_length, weight, truck_weights):\n",
        "    answer = 0\n",
        "    b = [0] * bridge_length     # 다리의 길이를 가진 리스트 생성\n",
        "    t = 0\n",
        "    while b:        \n",
        "        t += 1      #매 순환마다 시간을 1초씩 추가하고 0번째 원소 pop\n",
        "        b.pop(0)\n",
        "        \n",
        "        if truck_weights:   #아직 다리를 지나지 않은 트럭이 존재할때\n",
        "            if sum(b)+truck_weights[0] <= weight:   # 다리위에 있는 트럭들의 무게 + 추가될 트럭의 무게 < 다리가 견딜수 있는 무게\n",
        "                b.append(truck_weights.pop(0))   # 다리에 트럭 추가\n",
        "            else:\n",
        "                b.append(0) \n",
        "    return t\n",
        "\n",
        "#"
      ],
      "metadata": {
        "id": "g9Dy75bLWeS9"
      },
      "execution_count": null,
      "outputs": []
    },
    {
      "cell_type": "markdown",
      "source": [
        "# 4.주식가격(Level 2)"
      ],
      "metadata": {
        "id": "JO9OmZ_EWKa4"
      }
    },
    {
      "cell_type": "markdown",
      "source": [
        "## 스택 사용안함"
      ],
      "metadata": {
        "id": "PEhEaUlXWofe"
      }
    },
    {
      "cell_type": "code",
      "source": [
        "def solution(prices):\n",
        "    answer = [0] * len(prices)\n",
        "    for i in range(len(prices)):\n",
        "        for j in range(i + 1, len(prices)):\n",
        "            if prices[i] <= prices[j]:\n",
        "                answer[i] += 1\n",
        "            else:\n",
        "                answer[i] += 1\n",
        "                break\n",
        "    return answer"
      ],
      "metadata": {
        "id": "gnrEv79dWqUL"
      },
      "execution_count": null,
      "outputs": []
    },
    {
      "cell_type": "markdown",
      "source": [
        "## 시간초과"
      ],
      "metadata": {
        "id": "Y_QlYWedWslF"
      }
    },
    {
      "cell_type": "code",
      "source": [
        "def solution(prices):\n",
        "    answer = []\n",
        "    while prices:\n",
        "        cnt = 0\n",
        "        x = prices.pop(0)\n",
        "        for i in prices:\n",
        "            cnt+=1\n",
        "            if x > i:\n",
        "                break\n",
        "        answer.append(cnt)\n",
        "\n",
        "    return answer"
      ],
      "metadata": {
        "id": "BpaC_RX4WuFx"
      },
      "execution_count": null,
      "outputs": []
    },
    {
      "cell_type": "markdown",
      "source": [
        "## deque 사용"
      ],
      "metadata": {
        "id": "QFAaQCmYWwjB"
      }
    },
    {
      "cell_type": "code",
      "source": [
        "\n",
        "from collections import deque\n",
        "\n",
        "def solution(prices):\n",
        "    answer = []\n",
        "    prices = deque(prices)\n",
        "    while prices:\n",
        "        cnt = 0\n",
        "        x = prices.popleft()\n",
        "        for i in prices:\n",
        "            cnt+=1\n",
        "            if x > i:\n",
        "                break\n",
        "        answer.append(cnt)\n",
        "\n",
        "    return answer"
      ],
      "metadata": {
        "id": "O9E4lrGFWejN"
      },
      "execution_count": null,
      "outputs": []
    }
  ]
}